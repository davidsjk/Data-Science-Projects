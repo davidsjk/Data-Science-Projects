{
    "nbformat_minor": 1, 
    "cells": [
        {
            "source": "_italics_   \n**bold**\n# <font color=\"red\">Testing</font>\n\n", 
            "cell_type": "markdown", 
            "metadata": {
                "collapsed": true
            }
        }, 
        {
            "source": "![alt text](https://github.com/adam-p/markdown-here/raw/master/src/common/images/icon48.png \"Logo Title Text 1\")\n\n![alt text][logo]\n\n[logo]: http://www.goodneighbors.org/images/us/web/GnLogo.png \"Logo Title Text 2\"\n\n![alt text](https://i.ytimg.com/vi/jZViOEv90dI/hqdefault.jpg \"Funny Kid pic 1\")\n", 
            "cell_type": "markdown", 
            "metadata": {}
        }, 
        {
            "source": "[I'm a link](https://en.wikipedia.org/wiki/Link_(The_Legend_of_Zelda) \"And I have a title\")\n\nColons can be used to align columns.\n\n| Tables        | Are           | Cool  |\n| ------------- |:-------------:| -----:|\n| col 3 is      | right-aligned | $1600 |\n| col 2 is      | centered      |   $12 |\n| zebra stripes | are neat      |    $1 |\n\nThere must be at least 3 dashes separating each header cell.\nThe outer pipes (|) are optional, and you don't need to make the \nraw Markdown line up prettily. You can also use inline Markdown.\n\nMarkdown | Less | Pretty\n--- | --- | ---\n*Still* | `renders` | **nicely**\n1 | 2 | 3\n\n", 
            "cell_type": "markdown", 
            "metadata": {}
        }, 
        {
            "source": "YouTube Videos\n\nThey can't be added directly but you can add an image with a link to the video like this:\n\n<a href=\"http://www.youtube.com/watch?feature=player_embedded&v=YOUTUBE_VIDEO_ID_HERE\n\" target=\"_blank\"><img src=\"http://img.youtube.com/vi/YOUTUBE_VIDEO_ID_HERE/0.jpg\" \nalt=\"IMAGE ALT TEXT HERE\" width=\"240\" height=\"180\" border=\"10\" /></a>\n", 
            "cell_type": "markdown", 
            "metadata": {}
        }, 
        {
            "execution_count": null, 
            "cell_type": "code", 
            "metadata": {}, 
            "outputs": [], 
            "source": ""
        }
    ], 
    "metadata": {
        "kernelspec": {
            "display_name": "Python 3.5", 
            "name": "python3", 
            "language": "python"
        }, 
        "language_info": {
            "mimetype": "text/x-python", 
            "nbconvert_exporter": "python", 
            "version": "3.5.5", 
            "name": "python", 
            "file_extension": ".py", 
            "pygments_lexer": "ipython3", 
            "codemirror_mode": {
                "version": 3, 
                "name": "ipython"
            }
        }
    }, 
    "nbformat": 4
}